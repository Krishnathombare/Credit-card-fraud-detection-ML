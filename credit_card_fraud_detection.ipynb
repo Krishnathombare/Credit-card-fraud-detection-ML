{
  "cells": [
    {
      "cell_type": "markdown",
      "metadata": {
        "id": "view-in-github",
        "colab_type": "text"
      },
      "source": [
        "<a href=\"https://colab.research.google.com/github/krishnathombre/ML-project/blob/main/credit_card_fraud_detection.ipynb\" target=\"_parent\"><img src=\"https://colab.research.google.com/assets/colab-badge.svg\" alt=\"Open In Colab\"/></a>"
      ]
    },
    {
      "cell_type": "code",
      "source": [],
      "metadata": {
        "id": "Sr0PPg1SHFvf"
      },
      "execution_count": null,
      "outputs": []
    },
    {
      "cell_type": "code",
      "source": [
        "import numpy as np\n",
        "import pandas as pd\n",
        "from sklearn.model_selection import train_test_split\n",
        "from sklearn.preprocessing import StandardScaler\n",
        "from sklearn.linear_model import LogisticRegression\n",
        "from sklearn.metrics import classification_report, confusion_matrix\n",
        "#loading the dataset\n",
        "data = pd.read_csv('/creditcard.csv')\n",
        "#split into depenent and independent variables\n",
        "x=data.drop('Class',axis=1)\n",
        "y=data['Class']\n",
        "#splitting into train and test sets\n",
        "x_train, x_test, y_train, y_test = train_test_split(x,y, test_size=0.2, random_state=41)\n",
        "#standardize features\n",
        "scaler= StandardScaler()\n",
        "x_train= scaler.fit_transform(x_train)\n",
        "x_test= scaler.fit_transform(x_test)\n",
        "#training a logistic regression model\n",
        "model= LogisticRegression(max_iter=1000, random_state=41)\n",
        "model.fit(x_train, y_train)\n",
        "#preduiction on test set\n",
        "y_pred= model.predict(x_test)\n",
        "print(y_pred)\n",
        "#evaluation of model\n",
        "confusion_matrix= confusion_matrix(y_test,y_pred)\n",
        "classification_report= classification_report(y_test,y_pred)\n",
        "print(confusion_matrix)\n",
        "print(classification_report)\n",
        "\n",
        "#sample prediction\n",
        "sample_feature_value= np.array([[150000,-2.15484895456456, 1.54648484835842,0.156484848453287,-0.865615445153798,2.92548454543875,-0.012387915423601,2.36554789123654,1.01233698754215,-2.115498439874521,2.13654897542154,3.21563254123654,1.23654897412536,-1.23564789641235, 3.31878995683987,0.876549821315489,0.123457891231231,-0.789123456789123,0.301254123012365,-0.144489486981235,1.23879549321456,-0.212312312312312,2.9123111123123,-1.39789654123365,1.91231231231231,-1.01231569487514,0.002315212364987,-2.123654523192315,-0.223698745214523, 99.99]])\n",
        "#preprocessing of sample feature\n",
        "sample_feature_value_scaled= scaler.transform(sample_feature_value)\n",
        "prediction= model.predict(sample_feature_value_scaled)\n",
        "print(prediction)\n",
        "print(prediction/1000)\n",
        "\n",
        "\n"
      ],
      "metadata": {
        "colab": {
          "base_uri": "https://localhost:8080/"
        },
        "id": "0Bgfm5WsHHQg",
        "outputId": "c953d815-ddb6-4096-b29a-0dcf59fdcaf0"
      },
      "execution_count": null,
      "outputs": [
        {
          "output_type": "stream",
          "name": "stdout",
          "text": [
            "[0 0 0 ... 0 0 0]\n",
            "[[56856    12]\n",
            " [   38    56]]\n",
            "              precision    recall  f1-score   support\n",
            "\n",
            "           0       1.00      1.00      1.00     56868\n",
            "           1       0.82      0.60      0.69        94\n",
            "\n",
            "    accuracy                           1.00     56962\n",
            "   macro avg       0.91      0.80      0.85     56962\n",
            "weighted avg       1.00      1.00      1.00     56962\n",
            "\n",
            "[0]\n"
          ]
        },
        {
          "output_type": "stream",
          "name": "stderr",
          "text": [
            "/usr/local/lib/python3.10/dist-packages/sklearn/base.py:439: UserWarning: X does not have valid feature names, but StandardScaler was fitted with feature names\n",
            "  warnings.warn(\n"
          ]
        }
      ]
    },
    {
      "cell_type": "code",
      "source": [],
      "metadata": {
        "id": "Sd9_HuML6SEw"
      },
      "execution_count": null,
      "outputs": []
    }
  ],
  "metadata": {
    "colab": {
      "provenance": [],
      "include_colab_link": true
    },
    "kernelspec": {
      "display_name": "Python 3",
      "name": "python3"
    }
  },
  "nbformat": 4,
  "nbformat_minor": 0
}